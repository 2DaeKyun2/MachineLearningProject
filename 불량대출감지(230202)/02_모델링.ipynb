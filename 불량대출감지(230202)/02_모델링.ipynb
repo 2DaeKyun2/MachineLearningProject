{
 "cells": [
  {
   "cell_type": "code",
   "execution_count": 1,
   "metadata": {
    "ExecuteTime": {
     "end_time": "2022-09-19T01:28:27.875575Z",
     "start_time": "2022-09-19T01:28:27.867241Z"
    }
   },
   "outputs": [],
   "source": [
    "# 경고(Warning)가 출력되지 않도록 설정.\n",
    "import warnings\n",
    "warnings.filterwarnings(action='ignore')"
   ]
  },
  {
   "cell_type": "code",
   "execution_count": 1,
   "metadata": {
    "ExecuteTime": {
     "end_time": "2022-09-19T01:28:28.547216Z",
     "start_time": "2022-09-19T01:28:28.021762Z"
    }
   },
   "outputs": [],
   "source": [
    "import pandas as pd\n",
    "import numpy as np"
   ]
  },
  {
   "cell_type": "code",
   "execution_count": 2,
   "metadata": {
    "ExecuteTime": {
     "end_time": "2022-09-19T01:28:28.796826Z",
     "start_time": "2022-09-19T01:28:28.570343Z"
    },
    "scrolled": true
   },
   "outputs": [
    {
     "data": {
      "text/plain": [
       "(150000, 11)"
      ]
     },
     "execution_count": 2,
     "metadata": {},
     "output_type": "execute_result"
    }
   ],
   "source": [
    "data = pd.read_csv('data/data-v01.csv')\n",
    "data.shape"
   ]
  },
  {
   "cell_type": "code",
   "execution_count": 3,
   "metadata": {
    "ExecuteTime": {
     "end_time": "2022-09-19T01:28:28.859985Z",
     "start_time": "2022-09-19T01:28:28.835416Z"
    }
   },
   "outputs": [
    {
     "name": "stdout",
     "output_type": "stream",
     "text": [
      "<class 'pandas.core.frame.DataFrame'>\n",
      "RangeIndex: 150000 entries, 0 to 149999\n",
      "Data columns (total 11 columns):\n",
      " #   Column                                Non-Null Count   Dtype  \n",
      "---  ------                                --------------   -----  \n",
      " 0   seriousdlqin2yrs                      150000 non-null  int64  \n",
      " 1   revolvingutilizationofunsecuredlines  150000 non-null  float64\n",
      " 2   age                                   150000 non-null  int64  \n",
      " 3   numberoftime30-59dayspastduenotworse  150000 non-null  int64  \n",
      " 4   debtratio                             150000 non-null  float64\n",
      " 5   monthlyincome                         150000 non-null  float64\n",
      " 6   numberofopencreditlinesandloans       150000 non-null  int64  \n",
      " 7   numberoftimes90dayslate               150000 non-null  int64  \n",
      " 8   numberrealestateloansorlines          150000 non-null  int64  \n",
      " 9   numberoftime60-89dayspastduenotworse  150000 non-null  int64  \n",
      " 10  numberofdependents                    150000 non-null  float64\n",
      "dtypes: float64(4), int64(7)\n",
      "memory usage: 12.6 MB\n"
     ]
    }
   ],
   "source": [
    "data.info()"
   ]
  },
  {
   "cell_type": "code",
   "execution_count": 4,
   "metadata": {
    "ExecuteTime": {
     "end_time": "2022-09-19T01:28:28.921456Z",
     "start_time": "2022-09-19T01:28:28.891509Z"
    }
   },
   "outputs": [
    {
     "data": {
      "text/html": [
       "<div>\n",
       "<style scoped>\n",
       "    .dataframe tbody tr th:only-of-type {\n",
       "        vertical-align: middle;\n",
       "    }\n",
       "\n",
       "    .dataframe tbody tr th {\n",
       "        vertical-align: top;\n",
       "    }\n",
       "\n",
       "    .dataframe thead th {\n",
       "        text-align: right;\n",
       "    }\n",
       "</style>\n",
       "<table border=\"1\" class=\"dataframe\">\n",
       "  <thead>\n",
       "    <tr style=\"text-align: right;\">\n",
       "      <th></th>\n",
       "      <th>seriousdlqin2yrs</th>\n",
       "      <th>revolvingutilizationofunsecuredlines</th>\n",
       "      <th>age</th>\n",
       "      <th>numberoftime30-59dayspastduenotworse</th>\n",
       "      <th>debtratio</th>\n",
       "      <th>monthlyincome</th>\n",
       "      <th>numberofopencreditlinesandloans</th>\n",
       "      <th>numberoftimes90dayslate</th>\n",
       "      <th>numberrealestateloansorlines</th>\n",
       "      <th>numberoftime60-89dayspastduenotworse</th>\n",
       "      <th>numberofdependents</th>\n",
       "    </tr>\n",
       "  </thead>\n",
       "  <tbody>\n",
       "    <tr>\n",
       "      <th>0</th>\n",
       "      <td>1</td>\n",
       "      <td>0.766127</td>\n",
       "      <td>45</td>\n",
       "      <td>2</td>\n",
       "      <td>0.802982</td>\n",
       "      <td>9120.0</td>\n",
       "      <td>13</td>\n",
       "      <td>0</td>\n",
       "      <td>6</td>\n",
       "      <td>0</td>\n",
       "      <td>2.0</td>\n",
       "    </tr>\n",
       "    <tr>\n",
       "      <th>1</th>\n",
       "      <td>0</td>\n",
       "      <td>0.957151</td>\n",
       "      <td>40</td>\n",
       "      <td>0</td>\n",
       "      <td>0.121876</td>\n",
       "      <td>2600.0</td>\n",
       "      <td>4</td>\n",
       "      <td>0</td>\n",
       "      <td>0</td>\n",
       "      <td>0</td>\n",
       "      <td>1.0</td>\n",
       "    </tr>\n",
       "    <tr>\n",
       "      <th>2</th>\n",
       "      <td>0</td>\n",
       "      <td>0.658180</td>\n",
       "      <td>38</td>\n",
       "      <td>1</td>\n",
       "      <td>0.085113</td>\n",
       "      <td>3042.0</td>\n",
       "      <td>2</td>\n",
       "      <td>1</td>\n",
       "      <td>0</td>\n",
       "      <td>0</td>\n",
       "      <td>0.0</td>\n",
       "    </tr>\n",
       "    <tr>\n",
       "      <th>3</th>\n",
       "      <td>0</td>\n",
       "      <td>0.233810</td>\n",
       "      <td>30</td>\n",
       "      <td>0</td>\n",
       "      <td>0.036050</td>\n",
       "      <td>3300.0</td>\n",
       "      <td>5</td>\n",
       "      <td>0</td>\n",
       "      <td>0</td>\n",
       "      <td>0</td>\n",
       "      <td>0.0</td>\n",
       "    </tr>\n",
       "    <tr>\n",
       "      <th>4</th>\n",
       "      <td>0</td>\n",
       "      <td>0.907239</td>\n",
       "      <td>49</td>\n",
       "      <td>1</td>\n",
       "      <td>0.024926</td>\n",
       "      <td>12645.0</td>\n",
       "      <td>7</td>\n",
       "      <td>0</td>\n",
       "      <td>1</td>\n",
       "      <td>0</td>\n",
       "      <td>0.0</td>\n",
       "    </tr>\n",
       "  </tbody>\n",
       "</table>\n",
       "</div>"
      ],
      "text/plain": [
       "   seriousdlqin2yrs  revolvingutilizationofunsecuredlines  age  \\\n",
       "0                 1                              0.766127   45   \n",
       "1                 0                              0.957151   40   \n",
       "2                 0                              0.658180   38   \n",
       "3                 0                              0.233810   30   \n",
       "4                 0                              0.907239   49   \n",
       "\n",
       "   numberoftime30-59dayspastduenotworse  debtratio  monthlyincome  \\\n",
       "0                                     2   0.802982         9120.0   \n",
       "1                                     0   0.121876         2600.0   \n",
       "2                                     1   0.085113         3042.0   \n",
       "3                                     0   0.036050         3300.0   \n",
       "4                                     1   0.024926        12645.0   \n",
       "\n",
       "   numberofopencreditlinesandloans  numberoftimes90dayslate  \\\n",
       "0                               13                        0   \n",
       "1                                4                        0   \n",
       "2                                2                        1   \n",
       "3                                5                        0   \n",
       "4                                7                        0   \n",
       "\n",
       "   numberrealestateloansorlines  numberoftime60-89dayspastduenotworse  \\\n",
       "0                             6                                     0   \n",
       "1                             0                                     0   \n",
       "2                             0                                     0   \n",
       "3                             0                                     0   \n",
       "4                             1                                     0   \n",
       "\n",
       "   numberofdependents  \n",
       "0                 2.0  \n",
       "1                 1.0  \n",
       "2                 0.0  \n",
       "3                 0.0  \n",
       "4                 0.0  "
      ]
     },
     "execution_count": 4,
     "metadata": {},
     "output_type": "execute_result"
    }
   ],
   "source": [
    "data.head()"
   ]
  },
  {
   "cell_type": "code",
   "execution_count": 5,
   "metadata": {
    "ExecuteTime": {
     "end_time": "2022-09-19T01:28:29.996084Z",
     "start_time": "2022-09-19T01:28:28.956849Z"
    }
   },
   "outputs": [],
   "source": [
    "from sklearn.linear_model import LogisticRegression\n",
    "from sklearn.ensemble import GradientBoostingClassifier, RandomForestClassifier\n",
    "from sklearn.neighbors import KNeighborsClassifier\n",
    "from xgboost import XGBClassifier\n",
    "\n",
    "from sklearn.pipeline import make_pipeline\n",
    "\n",
    "from sklearn.model_selection import train_test_split, GridSearchCV, RandomizedSearchCV\n",
    "from sklearn.preprocessing import StandardScaler, MinMaxScaler\n",
    "from sklearn.metrics import roc_auc_score, accuracy_score, recall_score, precision_score\n",
    "\n",
    "import pickle"
   ]
  },
  {
   "cell_type": "code",
   "execution_count": 6,
   "metadata": {
    "ExecuteTime": {
     "end_time": "2022-09-19T01:28:30.027215Z",
     "start_time": "2022-09-19T01:28:30.015609Z"
    }
   },
   "outputs": [],
   "source": [
    "# X, y 분리\n",
    "y = data.seriousdlqin2yrs\n",
    "X = data.drop('seriousdlqin2yrs', axis='columns')"
   ]
  },
  {
   "cell_type": "code",
   "execution_count": 7,
   "metadata": {
    "ExecuteTime": {
     "end_time": "2022-09-19T01:28:30.168330Z",
     "start_time": "2022-09-19T01:28:30.061333Z"
    }
   },
   "outputs": [],
   "source": [
    "X_train, X_test, y_train, y_test = train_test_split(X, y, stratify=y, random_state=0)"
   ]
  },
  {
   "cell_type": "code",
   "execution_count": 9,
   "metadata": {
    "ExecuteTime": {
     "end_time": "2022-09-19T01:28:30.986511Z",
     "start_time": "2022-09-19T01:28:30.970487Z"
    }
   },
   "outputs": [
    {
     "data": {
      "text/plain": [
       "((112500,), (37500,))"
      ]
     },
     "execution_count": 9,
     "metadata": {},
     "output_type": "execute_result"
    }
   ],
   "source": [
    "y_train.shape,y_test.shape"
   ]
  },
  {
   "cell_type": "code",
   "execution_count": 10,
   "metadata": {
    "ExecuteTime": {
     "end_time": "2022-09-19T01:29:10.200031Z",
     "start_time": "2022-09-19T01:29:10.170936Z"
    }
   },
   "outputs": [
    {
     "data": {
      "text/plain": [
       "array([0.93315556, 0.06684444])"
      ]
     },
     "execution_count": 10,
     "metadata": {},
     "output_type": "execute_result"
    }
   ],
   "source": [
    "# y의 label별 비율\n",
    "np.unique(y_train, return_counts=True)[1]/y_train.size"
   ]
  },
  {
   "cell_type": "markdown",
   "metadata": {},
   "source": [
    "## Feature Scaler생성"
   ]
  },
  {
   "cell_type": "code",
   "execution_count": 11,
   "metadata": {
    "ExecuteTime": {
     "end_time": "2021-11-29T02:15:23.642039Z",
     "start_time": "2021-11-29T02:15:23.625083Z"
    }
   },
   "outputs": [],
   "source": [
    "scaler = StandardScaler()\n",
    "# scaler = MinMaxScaler()"
   ]
  },
  {
   "cell_type": "markdown",
   "metadata": {},
   "source": [
    "## Base-line 모델 정의"
   ]
  },
  {
   "cell_type": "code",
   "execution_count": 12,
   "metadata": {
    "ExecuteTime": {
     "end_time": "2021-11-29T02:16:24.612132Z",
     "start_time": "2021-11-29T02:16:24.585173Z"
    }
   },
   "outputs": [],
   "source": [
    "# knn. losgistic은 scaler 적용\n",
    "knn = make_pipeline(scaler, KNeighborsClassifier())\n",
    "lr = make_pipeline(scaler, LogisticRegression(max_iter=2000, random_state=0))\n",
    "rf = RandomForestClassifier(random_state=0)\n",
    "grb = GradientBoostingClassifier(random_state=0)\n",
    "xgb = XGBClassifier(random_state=0)"
   ]
  },
  {
   "cell_type": "code",
   "execution_count": 13,
   "metadata": {
    "ExecuteTime": {
     "end_time": "2021-11-29T02:17:20.018646Z",
     "start_time": "2021-11-29T02:16:25.552465Z"
    }
   },
   "outputs": [
    {
     "data": {
      "text/plain": [
       "RandomForestClassifier(random_state=0)"
      ]
     },
     "execution_count": 13,
     "metadata": {},
     "output_type": "execute_result"
    }
   ],
   "source": [
    "knn.fit(X_train, y_train)\n",
    "lr.fit(X_train, y_train)\n",
    "xgb.fit(X_train, y_train)\n",
    "grb.fit(X_train, y_train)\n",
    "rf.fit(X_train, y_train)"
   ]
  },
  {
   "cell_type": "code",
   "execution_count": 14,
   "metadata": {
    "ExecuteTime": {
     "end_time": "2021-11-29T02:17:31.816803Z",
     "start_time": "2021-11-29T02:17:31.793862Z"
    }
   },
   "outputs": [],
   "source": [
    "base_line = [knn, lr, xgb, grb, rf]\n",
    "model_names = ['KNN', 'LogisticRegression', 'XGBoost', 'GradientBoosting', 'RandomForest']"
   ]
  },
  {
   "cell_type": "code",
   "execution_count": 15,
   "metadata": {
    "ExecuteTime": {
     "end_time": "2021-11-29T02:19:32.905427Z",
     "start_time": "2021-11-29T02:18:12.624583Z"
    }
   },
   "outputs": [
    {
     "name": "stderr",
     "output_type": "stream",
     "text": [
      "c:\\Users\\DK_Lee\\Anaconda3\\lib\\site-packages\\sklearn\\neighbors\\_classification.py:228: FutureWarning: Unlike other reduction functions (e.g. `skew`, `kurtosis`), the default behavior of `mode` typically preserves the axis it acts along. In SciPy 1.11.0, this behavior will change: the default value of `keepdims` will become False, the `axis` over which the statistic is taken will be eliminated, and the value None will no longer be accepted. Set `keepdims` to True or False to avoid this warning.\n",
      "  mode, _ = stats.mode(_y[neigh_ind, k], axis=1)\n",
      "c:\\Users\\DK_Lee\\Anaconda3\\lib\\site-packages\\sklearn\\neighbors\\_classification.py:228: FutureWarning: Unlike other reduction functions (e.g. `skew`, `kurtosis`), the default behavior of `mode` typically preserves the axis it acts along. In SciPy 1.11.0, this behavior will change: the default value of `keepdims` will become False, the `axis` over which the statistic is taken will be eliminated, and the value None will no longer be accepted. Set `keepdims` to True or False to avoid this warning.\n",
      "  mode, _ = stats.mode(_y[neigh_ind, k], axis=1)\n"
     ]
    },
    {
     "name": "stdout",
     "output_type": "stream",
     "text": [
      "KNN\n",
      "train정확도:0.942, Test정확도:0.933\t train AUC:0.951, Test AUC:0.694\n",
      "==================================================\n",
      "LogisticRegression\n",
      "train정확도:0.934, Test정확도:0.934\t train AUC:0.804, Test AUC:0.803\n",
      "==================================================\n",
      "XGBoost\n",
      "train정확도:0.949, Test정확도:0.936\t train AUC:0.917, Test AUC:0.861\n",
      "==================================================\n",
      "GradientBoosting\n",
      "train정확도:0.939, Test정확도:0.936\t train AUC:0.868, Test AUC:0.866\n",
      "==================================================\n",
      "RandomForest\n",
      "train정확도:0.999, Test정확도:0.935\t train AUC:1.0, Test AUC:0.842\n",
      "==================================================\n"
     ]
    }
   ],
   "source": [
    "for model, name in zip(base_line, model_names):\n",
    "\n",
    "    pred_train = model.predict(X_train)\n",
    "    pred_test = model.predict(X_test)\n",
    "    \n",
    "    pred_train_proba = model.predict_proba(X_train)\n",
    "    pred_test_proba = model.predict_proba(X_test)\n",
    "    \n",
    "    acc_train = np.round(accuracy_score(y_train,pred_train),3)\n",
    "    acc_test = np.round(accuracy_score(y_test, pred_test), 3)\n",
    "    \n",
    "    auc_train = np.round(roc_auc_score(y_train, pred_train_proba[:, 1]), 3)\n",
    "    auc_test = np.round(roc_auc_score(y_test, pred_test_proba[:, 1]), 3)\n",
    "    \n",
    "    print(f'{name}')\n",
    "    print(f'train정확도:{acc_train}, Test정확도:{acc_test}\\t train AUC:{auc_train}, Test AUC:{auc_test}')\n",
    "    print('='*50)"
   ]
  },
  {
   "cell_type": "markdown",
   "metadata": {},
   "source": [
    "# GridSearchCV를 이용한 하이퍼파라미터 튜닝"
   ]
  },
  {
   "cell_type": "markdown",
   "metadata": {},
   "source": [
    "### XGBoost"
   ]
  },
  {
   "cell_type": "code",
   "execution_count": 16,
   "metadata": {
    "ExecuteTime": {
     "end_time": "2021-11-28T00:11:58.481448Z",
     "start_time": "2021-11-28T00:11:58.467428Z"
    }
   },
   "outputs": [],
   "source": [
    "param = {\n",
    "    'learning_rate':[0.01,0.1,0.5,1],\n",
    "    'n_estimators':[100,200,300,400,500],\n",
    "    'max_depth':range(1,6),\n",
    "    'subsample':[0.6,0.7,0.8,0.9,1],\n",
    "}"
   ]
  },
  {
   "cell_type": "code",
   "execution_count": 17,
   "metadata": {
    "ExecuteTime": {
     "end_time": "2021-11-28T00:11:58.497412Z",
     "start_time": "2021-11-28T00:11:58.485411Z"
    }
   },
   "outputs": [],
   "source": [
    "rs_xgb = RandomizedSearchCV(XGBClassifier(random_state=0), \n",
    "                            param, \n",
    "                            n_iter=60, \n",
    "                            scoring='roc_auc',\n",
    "                            cv=5,\n",
    "                            n_jobs=-1 )"
   ]
  },
  {
   "cell_type": "code",
   "execution_count": 18,
   "metadata": {
    "ExecuteTime": {
     "end_time": "2021-11-28T00:30:43.604765Z",
     "start_time": "2021-11-28T00:11:58.498414Z"
    }
   },
   "outputs": [
    {
     "data": {
      "text/plain": [
       "RandomizedSearchCV(cv=5,\n",
       "                   estimator=XGBClassifier(base_score=None, booster=None,\n",
       "                                           callbacks=None,\n",
       "                                           colsample_bylevel=None,\n",
       "                                           colsample_bynode=None,\n",
       "                                           colsample_bytree=None,\n",
       "                                           early_stopping_rounds=None,\n",
       "                                           enable_categorical=False,\n",
       "                                           eval_metric=None, feature_types=None,\n",
       "                                           gamma=None, gpu_id=None,\n",
       "                                           grow_policy=None,\n",
       "                                           importance_type=None,\n",
       "                                           interaction_constraints=None,\n",
       "                                           learning_rate...\n",
       "                                           max_delta_step=None, max_depth=None,\n",
       "                                           max_leaves=None,\n",
       "                                           min_child_weight=None, missing=nan,\n",
       "                                           monotone_constraints=None,\n",
       "                                           n_estimators=100, n_jobs=None,\n",
       "                                           num_parallel_tree=None,\n",
       "                                           predictor=None, random_state=0, ...),\n",
       "                   n_iter=60, n_jobs=-1,\n",
       "                   param_distributions={'learning_rate': [0.01, 0.1, 0.5, 1],\n",
       "                                        'max_depth': range(1, 6),\n",
       "                                        'n_estimators': [100, 200, 300, 400,\n",
       "                                                         500],\n",
       "                                        'subsample': [0.6, 0.7, 0.8, 0.9, 1]},\n",
       "                   scoring='roc_auc')"
      ]
     },
     "execution_count": 18,
     "metadata": {},
     "output_type": "execute_result"
    }
   ],
   "source": [
    "rs_xgb.fit(X_train, y_train)"
   ]
  },
  {
   "cell_type": "code",
   "execution_count": 19,
   "metadata": {
    "ExecuteTime": {
     "end_time": "2021-11-28T00:32:40.260201Z",
     "start_time": "2021-11-28T00:32:40.254201Z"
    }
   },
   "outputs": [
    {
     "data": {
      "text/plain": [
       "{'subsample': 0.8, 'n_estimators': 400, 'max_depth': 2, 'learning_rate': 0.1}"
      ]
     },
     "execution_count": 19,
     "metadata": {},
     "output_type": "execute_result"
    }
   ],
   "source": [
    "rs_xgb.best_params_"
   ]
  },
  {
   "cell_type": "code",
   "execution_count": 20,
   "metadata": {
    "ExecuteTime": {
     "end_time": "2021-11-28T00:32:47.013490Z",
     "start_time": "2021-11-28T00:32:46.989492Z"
    },
    "collapsed": true
   },
   "outputs": [
    {
     "data": {
      "text/html": [
       "<div>\n",
       "<style scoped>\n",
       "    .dataframe tbody tr th:only-of-type {\n",
       "        vertical-align: middle;\n",
       "    }\n",
       "\n",
       "    .dataframe tbody tr th {\n",
       "        vertical-align: top;\n",
       "    }\n",
       "\n",
       "    .dataframe thead th {\n",
       "        text-align: right;\n",
       "    }\n",
       "</style>\n",
       "<table border=\"1\" class=\"dataframe\">\n",
       "  <thead>\n",
       "    <tr style=\"text-align: right;\">\n",
       "      <th></th>\n",
       "      <th>mean_fit_time</th>\n",
       "      <th>std_fit_time</th>\n",
       "      <th>mean_score_time</th>\n",
       "      <th>std_score_time</th>\n",
       "      <th>param_subsample</th>\n",
       "      <th>param_n_estimators</th>\n",
       "      <th>param_max_depth</th>\n",
       "      <th>param_learning_rate</th>\n",
       "      <th>params</th>\n",
       "      <th>split0_test_score</th>\n",
       "      <th>split1_test_score</th>\n",
       "      <th>split2_test_score</th>\n",
       "      <th>split3_test_score</th>\n",
       "      <th>split4_test_score</th>\n",
       "      <th>mean_test_score</th>\n",
       "      <th>std_test_score</th>\n",
       "      <th>rank_test_score</th>\n",
       "    </tr>\n",
       "  </thead>\n",
       "  <tbody>\n",
       "    <tr>\n",
       "      <th>28</th>\n",
       "      <td>21.746735</td>\n",
       "      <td>0.830167</td>\n",
       "      <td>0.122645</td>\n",
       "      <td>0.013457</td>\n",
       "      <td>0.8</td>\n",
       "      <td>400</td>\n",
       "      <td>2</td>\n",
       "      <td>0.1</td>\n",
       "      <td>{'subsample': 0.8, 'n_estimators': 400, 'max_d...</td>\n",
       "      <td>0.861043</td>\n",
       "      <td>0.861962</td>\n",
       "      <td>0.864410</td>\n",
       "      <td>0.862929</td>\n",
       "      <td>0.869406</td>\n",
       "      <td>0.863950</td>\n",
       "      <td>0.002947</td>\n",
       "      <td>1</td>\n",
       "    </tr>\n",
       "    <tr>\n",
       "      <th>18</th>\n",
       "      <td>27.415235</td>\n",
       "      <td>0.553589</td>\n",
       "      <td>0.132146</td>\n",
       "      <td>0.004968</td>\n",
       "      <td>0.6</td>\n",
       "      <td>500</td>\n",
       "      <td>2</td>\n",
       "      <td>0.1</td>\n",
       "      <td>{'subsample': 0.6, 'n_estimators': 500, 'max_d...</td>\n",
       "      <td>0.861200</td>\n",
       "      <td>0.861852</td>\n",
       "      <td>0.864695</td>\n",
       "      <td>0.862592</td>\n",
       "      <td>0.869279</td>\n",
       "      <td>0.863923</td>\n",
       "      <td>0.002924</td>\n",
       "      <td>2</td>\n",
       "    </tr>\n",
       "    <tr>\n",
       "      <th>37</th>\n",
       "      <td>25.698649</td>\n",
       "      <td>0.792798</td>\n",
       "      <td>0.148192</td>\n",
       "      <td>0.016542</td>\n",
       "      <td>0.9</td>\n",
       "      <td>300</td>\n",
       "      <td>3</td>\n",
       "      <td>0.1</td>\n",
       "      <td>{'subsample': 0.9, 'n_estimators': 300, 'max_d...</td>\n",
       "      <td>0.860806</td>\n",
       "      <td>0.862249</td>\n",
       "      <td>0.864745</td>\n",
       "      <td>0.862478</td>\n",
       "      <td>0.868887</td>\n",
       "      <td>0.863833</td>\n",
       "      <td>0.002824</td>\n",
       "      <td>3</td>\n",
       "    </tr>\n",
       "    <tr>\n",
       "      <th>2</th>\n",
       "      <td>14.074668</td>\n",
       "      <td>0.202105</td>\n",
       "      <td>0.088636</td>\n",
       "      <td>0.003208</td>\n",
       "      <td>1</td>\n",
       "      <td>300</td>\n",
       "      <td>2</td>\n",
       "      <td>0.1</td>\n",
       "      <td>{'subsample': 1, 'n_estimators': 300, 'max_dep...</td>\n",
       "      <td>0.860830</td>\n",
       "      <td>0.861043</td>\n",
       "      <td>0.863726</td>\n",
       "      <td>0.862772</td>\n",
       "      <td>0.869237</td>\n",
       "      <td>0.863522</td>\n",
       "      <td>0.003055</td>\n",
       "      <td>4</td>\n",
       "    </tr>\n",
       "    <tr>\n",
       "      <th>23</th>\n",
       "      <td>30.928662</td>\n",
       "      <td>0.576916</td>\n",
       "      <td>0.161731</td>\n",
       "      <td>0.004889</td>\n",
       "      <td>0.9</td>\n",
       "      <td>400</td>\n",
       "      <td>3</td>\n",
       "      <td>0.1</td>\n",
       "      <td>{'subsample': 0.9, 'n_estimators': 400, 'max_d...</td>\n",
       "      <td>0.860171</td>\n",
       "      <td>0.861566</td>\n",
       "      <td>0.864486</td>\n",
       "      <td>0.861742</td>\n",
       "      <td>0.868454</td>\n",
       "      <td>0.863284</td>\n",
       "      <td>0.002939</td>\n",
       "      <td>5</td>\n",
       "    </tr>\n",
       "  </tbody>\n",
       "</table>\n",
       "</div>"
      ],
      "text/plain": [
       "    mean_fit_time  std_fit_time  mean_score_time  std_score_time  \\\n",
       "28      21.746735      0.830167         0.122645        0.013457   \n",
       "18      27.415235      0.553589         0.132146        0.004968   \n",
       "37      25.698649      0.792798         0.148192        0.016542   \n",
       "2       14.074668      0.202105         0.088636        0.003208   \n",
       "23      30.928662      0.576916         0.161731        0.004889   \n",
       "\n",
       "   param_subsample param_n_estimators param_max_depth param_learning_rate  \\\n",
       "28             0.8                400               2                 0.1   \n",
       "18             0.6                500               2                 0.1   \n",
       "37             0.9                300               3                 0.1   \n",
       "2                1                300               2                 0.1   \n",
       "23             0.9                400               3                 0.1   \n",
       "\n",
       "                                               params  split0_test_score  \\\n",
       "28  {'subsample': 0.8, 'n_estimators': 400, 'max_d...           0.861043   \n",
       "18  {'subsample': 0.6, 'n_estimators': 500, 'max_d...           0.861200   \n",
       "37  {'subsample': 0.9, 'n_estimators': 300, 'max_d...           0.860806   \n",
       "2   {'subsample': 1, 'n_estimators': 300, 'max_dep...           0.860830   \n",
       "23  {'subsample': 0.9, 'n_estimators': 400, 'max_d...           0.860171   \n",
       "\n",
       "    split1_test_score  split2_test_score  split3_test_score  \\\n",
       "28           0.861962           0.864410           0.862929   \n",
       "18           0.861852           0.864695           0.862592   \n",
       "37           0.862249           0.864745           0.862478   \n",
       "2            0.861043           0.863726           0.862772   \n",
       "23           0.861566           0.864486           0.861742   \n",
       "\n",
       "    split4_test_score  mean_test_score  std_test_score  rank_test_score  \n",
       "28           0.869406         0.863950        0.002947                1  \n",
       "18           0.869279         0.863923        0.002924                2  \n",
       "37           0.868887         0.863833        0.002824                3  \n",
       "2            0.869237         0.863522        0.003055                4  \n",
       "23           0.868454         0.863284        0.002939                5  "
      ]
     },
     "execution_count": 20,
     "metadata": {},
     "output_type": "execute_result"
    }
   ],
   "source": [
    "rs_df = pd.DataFrame(rs_xgb.cv_results_)\n",
    "rs_df.sort_values('rank_test_score').head()"
   ]
  },
  {
   "cell_type": "code",
   "execution_count": 21,
   "metadata": {
    "ExecuteTime": {
     "end_time": "2021-11-28T00:58:53.485095Z",
     "start_time": "2021-11-28T00:51:04.406185Z"
    }
   },
   "outputs": [
    {
     "data": {
      "text/plain": [
       "GridSearchCV(cv=5,\n",
       "             estimator=XGBClassifier(base_score=None, booster=None,\n",
       "                                     callbacks=None, colsample_bylevel=None,\n",
       "                                     colsample_bynode=None,\n",
       "                                     colsample_bytree=None,\n",
       "                                     early_stopping_rounds=None,\n",
       "                                     enable_categorical=False, eval_metric=None,\n",
       "                                     feature_types=None, gamma=None,\n",
       "                                     gpu_id=None, grow_policy=None,\n",
       "                                     importance_type=None,\n",
       "                                     interaction_constraints=None,\n",
       "                                     learning_rate=0.1, max_bin=None,\n",
       "                                     max_cat_threshold=None,\n",
       "                                     max_cat_to_onehot=None,\n",
       "                                     max_delta_step=None, max_depth=None,\n",
       "                                     max_leaves=None, min_child_weight=None,\n",
       "                                     missing=nan, monotone_constraints=None,\n",
       "                                     n_estimators=400, n_jobs=None,\n",
       "                                     num_parallel_tree=None, predictor=None,\n",
       "                                     random_state=0, ...),\n",
       "             n_jobs=-1,\n",
       "             param_grid={'max_depth': [2, 3, 4],\n",
       "                         'subsample': [0.6, 0.7, 0.8, 0.9, 1]},\n",
       "             scoring='roc_auc')"
      ]
     },
     "execution_count": 21,
     "metadata": {},
     "output_type": "execute_result"
    }
   ],
   "source": [
    "# 상세하게 찾기\n",
    "param = {\n",
    "    \"subsample\":[0.6,0.7,0.8,0.9,1], \n",
    "    \"max_depth\":[2,3,4]\n",
    "}\n",
    "gs_xgb = GridSearchCV(XGBClassifier(n_estimators=400, learning_rate=0.1, random_state=0), \n",
    "                      param, \n",
    "                      scoring='roc_auc', \n",
    "                      cv=5,\n",
    "                      n_jobs=-1 )\n",
    "\n",
    "gs_xgb.fit(X_train, y_train)"
   ]
  },
  {
   "cell_type": "code",
   "execution_count": 22,
   "metadata": {
    "ExecuteTime": {
     "end_time": "2021-11-28T01:11:59.954391Z",
     "start_time": "2021-11-28T01:11:59.937389Z"
    }
   },
   "outputs": [
    {
     "data": {
      "text/plain": [
       "{'max_depth': 2, 'subsample': 0.6}"
      ]
     },
     "execution_count": 22,
     "metadata": {},
     "output_type": "execute_result"
    }
   ],
   "source": [
    "gs_xgb.best_params_"
   ]
  },
  {
   "cell_type": "code",
   "execution_count": 23,
   "metadata": {
    "ExecuteTime": {
     "end_time": "2021-11-28T01:12:20.437843Z",
     "start_time": "2021-11-28T01:12:20.431846Z"
    }
   },
   "outputs": [
    {
     "data": {
      "text/plain": [
       "0.8639777510812596"
      ]
     },
     "execution_count": 23,
     "metadata": {},
     "output_type": "execute_result"
    }
   ],
   "source": [
    "gs_xgb.best_score_"
   ]
  },
  {
   "cell_type": "code",
   "execution_count": 24,
   "metadata": {
    "ExecuteTime": {
     "end_time": "2021-11-28T01:12:35.871991Z",
     "start_time": "2021-11-28T01:12:35.839901Z"
    },
    "scrolled": true
   },
   "outputs": [
    {
     "data": {
      "text/html": [
       "<div>\n",
       "<style scoped>\n",
       "    .dataframe tbody tr th:only-of-type {\n",
       "        vertical-align: middle;\n",
       "    }\n",
       "\n",
       "    .dataframe tbody tr th {\n",
       "        vertical-align: top;\n",
       "    }\n",
       "\n",
       "    .dataframe thead th {\n",
       "        text-align: right;\n",
       "    }\n",
       "</style>\n",
       "<table border=\"1\" class=\"dataframe\">\n",
       "  <thead>\n",
       "    <tr style=\"text-align: right;\">\n",
       "      <th></th>\n",
       "      <th>mean_fit_time</th>\n",
       "      <th>std_fit_time</th>\n",
       "      <th>mean_score_time</th>\n",
       "      <th>std_score_time</th>\n",
       "      <th>param_max_depth</th>\n",
       "      <th>param_subsample</th>\n",
       "      <th>params</th>\n",
       "      <th>split0_test_score</th>\n",
       "      <th>split1_test_score</th>\n",
       "      <th>split2_test_score</th>\n",
       "      <th>split3_test_score</th>\n",
       "      <th>split4_test_score</th>\n",
       "      <th>mean_test_score</th>\n",
       "      <th>std_test_score</th>\n",
       "      <th>rank_test_score</th>\n",
       "    </tr>\n",
       "  </thead>\n",
       "  <tbody>\n",
       "    <tr>\n",
       "      <th>0</th>\n",
       "      <td>24.867540</td>\n",
       "      <td>0.940949</td>\n",
       "      <td>0.133453</td>\n",
       "      <td>0.019840</td>\n",
       "      <td>2</td>\n",
       "      <td>0.6</td>\n",
       "      <td>{'max_depth': 2, 'subsample': 0.6}</td>\n",
       "      <td>0.861307</td>\n",
       "      <td>0.861856</td>\n",
       "      <td>0.864509</td>\n",
       "      <td>0.862717</td>\n",
       "      <td>0.869499</td>\n",
       "      <td>0.863978</td>\n",
       "      <td>0.002966</td>\n",
       "      <td>1</td>\n",
       "    </tr>\n",
       "    <tr>\n",
       "      <th>2</th>\n",
       "      <td>24.247563</td>\n",
       "      <td>0.677032</td>\n",
       "      <td>0.122826</td>\n",
       "      <td>0.011768</td>\n",
       "      <td>2</td>\n",
       "      <td>0.8</td>\n",
       "      <td>{'max_depth': 2, 'subsample': 0.8}</td>\n",
       "      <td>0.861043</td>\n",
       "      <td>0.861962</td>\n",
       "      <td>0.864410</td>\n",
       "      <td>0.862929</td>\n",
       "      <td>0.869406</td>\n",
       "      <td>0.863950</td>\n",
       "      <td>0.002947</td>\n",
       "      <td>2</td>\n",
       "    </tr>\n",
       "    <tr>\n",
       "      <th>3</th>\n",
       "      <td>25.049569</td>\n",
       "      <td>0.927565</td>\n",
       "      <td>0.143926</td>\n",
       "      <td>0.014422</td>\n",
       "      <td>2</td>\n",
       "      <td>0.9</td>\n",
       "      <td>{'max_depth': 2, 'subsample': 0.9}</td>\n",
       "      <td>0.861912</td>\n",
       "      <td>0.861382</td>\n",
       "      <td>0.864254</td>\n",
       "      <td>0.862435</td>\n",
       "      <td>0.869265</td>\n",
       "      <td>0.863850</td>\n",
       "      <td>0.002875</td>\n",
       "      <td>3</td>\n",
       "    </tr>\n",
       "    <tr>\n",
       "      <th>1</th>\n",
       "      <td>24.604692</td>\n",
       "      <td>0.915433</td>\n",
       "      <td>0.128743</td>\n",
       "      <td>0.006900</td>\n",
       "      <td>2</td>\n",
       "      <td>0.7</td>\n",
       "      <td>{'max_depth': 2, 'subsample': 0.7}</td>\n",
       "      <td>0.861375</td>\n",
       "      <td>0.861462</td>\n",
       "      <td>0.864095</td>\n",
       "      <td>0.862721</td>\n",
       "      <td>0.869425</td>\n",
       "      <td>0.863816</td>\n",
       "      <td>0.002974</td>\n",
       "      <td>4</td>\n",
       "    </tr>\n",
       "    <tr>\n",
       "      <th>4</th>\n",
       "      <td>22.311286</td>\n",
       "      <td>1.122252</td>\n",
       "      <td>0.121923</td>\n",
       "      <td>0.006668</td>\n",
       "      <td>2</td>\n",
       "      <td>1</td>\n",
       "      <td>{'max_depth': 2, 'subsample': 1}</td>\n",
       "      <td>0.861013</td>\n",
       "      <td>0.861343</td>\n",
       "      <td>0.863914</td>\n",
       "      <td>0.862920</td>\n",
       "      <td>0.869556</td>\n",
       "      <td>0.863749</td>\n",
       "      <td>0.003089</td>\n",
       "      <td>5</td>\n",
       "    </tr>\n",
       "  </tbody>\n",
       "</table>\n",
       "</div>"
      ],
      "text/plain": [
       "   mean_fit_time  std_fit_time  mean_score_time  std_score_time  \\\n",
       "0      24.867540      0.940949         0.133453        0.019840   \n",
       "2      24.247563      0.677032         0.122826        0.011768   \n",
       "3      25.049569      0.927565         0.143926        0.014422   \n",
       "1      24.604692      0.915433         0.128743        0.006900   \n",
       "4      22.311286      1.122252         0.121923        0.006668   \n",
       "\n",
       "  param_max_depth param_subsample                              params  \\\n",
       "0               2             0.6  {'max_depth': 2, 'subsample': 0.6}   \n",
       "2               2             0.8  {'max_depth': 2, 'subsample': 0.8}   \n",
       "3               2             0.9  {'max_depth': 2, 'subsample': 0.9}   \n",
       "1               2             0.7  {'max_depth': 2, 'subsample': 0.7}   \n",
       "4               2               1    {'max_depth': 2, 'subsample': 1}   \n",
       "\n",
       "   split0_test_score  split1_test_score  split2_test_score  split3_test_score  \\\n",
       "0           0.861307           0.861856           0.864509           0.862717   \n",
       "2           0.861043           0.861962           0.864410           0.862929   \n",
       "3           0.861912           0.861382           0.864254           0.862435   \n",
       "1           0.861375           0.861462           0.864095           0.862721   \n",
       "4           0.861013           0.861343           0.863914           0.862920   \n",
       "\n",
       "   split4_test_score  mean_test_score  std_test_score  rank_test_score  \n",
       "0           0.869499         0.863978        0.002966                1  \n",
       "2           0.869406         0.863950        0.002947                2  \n",
       "3           0.869265         0.863850        0.002875                3  \n",
       "1           0.869425         0.863816        0.002974                4  \n",
       "4           0.869556         0.863749        0.003089                5  "
      ]
     },
     "execution_count": 24,
     "metadata": {},
     "output_type": "execute_result"
    }
   ],
   "source": [
    "gs_df = pd.DataFrame(gs_xgb.cv_results_)\n",
    "gs_df.sort_values('rank_test_score').head()"
   ]
  },
  {
   "cell_type": "code",
   "execution_count": 25,
   "metadata": {
    "ExecuteTime": {
     "end_time": "2021-11-28T01:12:59.932430Z",
     "start_time": "2021-11-28T01:12:59.927433Z"
    }
   },
   "outputs": [],
   "source": [
    "best_model_xgb = gs_xgb.best_estimator_"
   ]
  },
  {
   "cell_type": "code",
   "execution_count": 21,
   "metadata": {
    "ExecuteTime": {
     "end_time": "2021-11-29T02:26:58.309652Z",
     "start_time": "2021-11-29T02:26:58.290704Z"
    }
   },
   "outputs": [],
   "source": [
    "# 모델저장\n",
    "import os\n",
    "save_dir = 'saved_model'\n",
    "os.makedirs(save_dir, exist_ok=True) #디렉토리 만들기(없으면 만들고 있으면 안 만든다.)\n",
    "\n",
    "\n",
    "xgb_file_path = os.path.join(save_dir, 'xgb_best.pkl')\n",
    "best_model_xgb.save_model(xgb_file_path) #xgb객체.save_model(경로) => 모델을 파일로 저장."
   ]
  },
  {
   "cell_type": "code",
   "execution_count": 22,
   "metadata": {
    "ExecuteTime": {
     "end_time": "2021-11-29T02:26:59.107076Z",
     "start_time": "2021-11-29T02:26:59.089122Z"
    }
   },
   "outputs": [],
   "source": [
    "# Load Model\n",
    "saved_xgb = XGBClassifier()\n",
    "saved_xgb.load_model(xgb_file_path)"
   ]
  },
  {
   "cell_type": "markdown",
   "metadata": {},
   "source": [
    "### GradientBoosting"
   ]
  },
  {
   "cell_type": "code",
   "execution_count": 26,
   "metadata": {
    "ExecuteTime": {
     "end_time": "2021-11-28T01:15:10.072636Z",
     "start_time": "2021-11-28T01:15:10.055661Z"
    }
   },
   "outputs": [],
   "source": [
    "param_gb = {\n",
    "    'learning_rate':[0.001, 0.01,0.1,0.5,1,10],\n",
    "    'n_estimators':[100,200,300,400,500],\n",
    "    'max_depth':range(1,6),\n",
    "    'subsample':[0.6,0.7,0.8,0.9,1],\n",
    "}\n",
    "rs_gb = RandomizedSearchCV(GradientBoostingClassifier(random_state=0), \n",
    "                           param_distributions=param_gb, \n",
    "                           n_iter=60, \n",
    "                           cv=5, \n",
    "                           scoring='roc_auc', \n",
    "                           n_jobs=-1)"
   ]
  },
  {
   "cell_type": "code",
   "execution_count": 27,
   "metadata": {
    "ExecuteTime": {
     "end_time": "2021-11-28T02:01:44.541265Z",
     "start_time": "2021-11-28T01:15:19.023578Z"
    },
    "scrolled": true
   },
   "outputs": [
    {
     "data": {
      "text/plain": [
       "RandomizedSearchCV(cv=5, estimator=GradientBoostingClassifier(random_state=0),\n",
       "                   n_iter=60, n_jobs=-1,\n",
       "                   param_distributions={'learning_rate': [0.001, 0.01, 0.1, 0.5,\n",
       "                                                          1, 10],\n",
       "                                        'max_depth': range(1, 6),\n",
       "                                        'n_estimators': [100, 200, 300, 400,\n",
       "                                                         500],\n",
       "                                        'subsample': [0.6, 0.7, 0.8, 0.9, 1]},\n",
       "                   scoring='roc_auc')"
      ]
     },
     "execution_count": 27,
     "metadata": {},
     "output_type": "execute_result"
    }
   ],
   "source": [
    "rs_gb.fit(X_train, y_train)"
   ]
  },
  {
   "cell_type": "code",
   "execution_count": 28,
   "metadata": {
    "ExecuteTime": {
     "end_time": "2021-11-28T02:01:44.557091Z",
     "start_time": "2021-11-28T02:01:44.543054Z"
    }
   },
   "outputs": [
    {
     "data": {
      "text/plain": [
       "{'subsample': 0.8, 'n_estimators': 100, 'max_depth': 5, 'learning_rate': 0.1}"
      ]
     },
     "execution_count": 28,
     "metadata": {},
     "output_type": "execute_result"
    }
   ],
   "source": [
    "rs_gb.best_params_"
   ]
  },
  {
   "cell_type": "code",
   "execution_count": 29,
   "metadata": {
    "ExecuteTime": {
     "end_time": "2021-11-28T02:01:44.572523Z",
     "start_time": "2021-11-28T02:01:44.559396Z"
    }
   },
   "outputs": [
    {
     "data": {
      "text/plain": [
       "0.8628826716740372"
      ]
     },
     "execution_count": 29,
     "metadata": {},
     "output_type": "execute_result"
    }
   ],
   "source": [
    "rs_gb.best_score_"
   ]
  },
  {
   "cell_type": "code",
   "execution_count": 30,
   "metadata": {
    "ExecuteTime": {
     "end_time": "2021-11-28T02:01:44.613450Z",
     "start_time": "2021-11-28T02:01:44.575416Z"
    },
    "scrolled": true
   },
   "outputs": [
    {
     "data": {
      "text/html": [
       "<div>\n",
       "<style scoped>\n",
       "    .dataframe tbody tr th:only-of-type {\n",
       "        vertical-align: middle;\n",
       "    }\n",
       "\n",
       "    .dataframe tbody tr th {\n",
       "        vertical-align: top;\n",
       "    }\n",
       "\n",
       "    .dataframe thead th {\n",
       "        text-align: right;\n",
       "    }\n",
       "</style>\n",
       "<table border=\"1\" class=\"dataframe\">\n",
       "  <thead>\n",
       "    <tr style=\"text-align: right;\">\n",
       "      <th></th>\n",
       "      <th>mean_fit_time</th>\n",
       "      <th>std_fit_time</th>\n",
       "      <th>mean_score_time</th>\n",
       "      <th>std_score_time</th>\n",
       "      <th>param_subsample</th>\n",
       "      <th>param_n_estimators</th>\n",
       "      <th>param_max_depth</th>\n",
       "      <th>param_learning_rate</th>\n",
       "      <th>params</th>\n",
       "      <th>split0_test_score</th>\n",
       "      <th>split1_test_score</th>\n",
       "      <th>split2_test_score</th>\n",
       "      <th>split3_test_score</th>\n",
       "      <th>split4_test_score</th>\n",
       "      <th>mean_test_score</th>\n",
       "      <th>std_test_score</th>\n",
       "      <th>rank_test_score</th>\n",
       "    </tr>\n",
       "  </thead>\n",
       "  <tbody>\n",
       "    <tr>\n",
       "      <th>3</th>\n",
       "      <td>35.538048</td>\n",
       "      <td>1.267787</td>\n",
       "      <td>0.063381</td>\n",
       "      <td>0.002326</td>\n",
       "      <td>0.8</td>\n",
       "      <td>100</td>\n",
       "      <td>5</td>\n",
       "      <td>0.1</td>\n",
       "      <td>{'subsample': 0.8, 'n_estimators': 100, 'max_d...</td>\n",
       "      <td>0.860344</td>\n",
       "      <td>0.862704</td>\n",
       "      <td>0.863764</td>\n",
       "      <td>0.860199</td>\n",
       "      <td>0.867403</td>\n",
       "      <td>0.862883</td>\n",
       "      <td>0.002642</td>\n",
       "      <td>1</td>\n",
       "    </tr>\n",
       "    <tr>\n",
       "      <th>33</th>\n",
       "      <td>18.655808</td>\n",
       "      <td>0.236207</td>\n",
       "      <td>0.049330</td>\n",
       "      <td>0.002141</td>\n",
       "      <td>0.6</td>\n",
       "      <td>100</td>\n",
       "      <td>3</td>\n",
       "      <td>0.1</td>\n",
       "      <td>{'subsample': 0.6, 'n_estimators': 100, 'max_d...</td>\n",
       "      <td>0.859014</td>\n",
       "      <td>0.861523</td>\n",
       "      <td>0.862170</td>\n",
       "      <td>0.860825</td>\n",
       "      <td>0.868612</td>\n",
       "      <td>0.862429</td>\n",
       "      <td>0.003267</td>\n",
       "      <td>2</td>\n",
       "    </tr>\n",
       "    <tr>\n",
       "      <th>28</th>\n",
       "      <td>147.195277</td>\n",
       "      <td>1.700289</td>\n",
       "      <td>0.250741</td>\n",
       "      <td>0.008951</td>\n",
       "      <td>0.8</td>\n",
       "      <td>500</td>\n",
       "      <td>4</td>\n",
       "      <td>0.01</td>\n",
       "      <td>{'subsample': 0.8, 'n_estimators': 500, 'max_d...</td>\n",
       "      <td>0.857962</td>\n",
       "      <td>0.861562</td>\n",
       "      <td>0.862600</td>\n",
       "      <td>0.860257</td>\n",
       "      <td>0.869364</td>\n",
       "      <td>0.862349</td>\n",
       "      <td>0.003835</td>\n",
       "      <td>3</td>\n",
       "    </tr>\n",
       "    <tr>\n",
       "      <th>51</th>\n",
       "      <td>176.314855</td>\n",
       "      <td>2.802965</td>\n",
       "      <td>0.247478</td>\n",
       "      <td>0.009230</td>\n",
       "      <td>1</td>\n",
       "      <td>500</td>\n",
       "      <td>4</td>\n",
       "      <td>0.01</td>\n",
       "      <td>{'subsample': 1, 'n_estimators': 500, 'max_dep...</td>\n",
       "      <td>0.857775</td>\n",
       "      <td>0.860747</td>\n",
       "      <td>0.861882</td>\n",
       "      <td>0.860160</td>\n",
       "      <td>0.869490</td>\n",
       "      <td>0.862011</td>\n",
       "      <td>0.003973</td>\n",
       "      <td>4</td>\n",
       "    </tr>\n",
       "    <tr>\n",
       "      <th>49</th>\n",
       "      <td>31.857775</td>\n",
       "      <td>1.399209</td>\n",
       "      <td>0.059154</td>\n",
       "      <td>0.004438</td>\n",
       "      <td>0.8</td>\n",
       "      <td>200</td>\n",
       "      <td>2</td>\n",
       "      <td>0.5</td>\n",
       "      <td>{'subsample': 0.8, 'n_estimators': 200, 'max_d...</td>\n",
       "      <td>0.858951</td>\n",
       "      <td>0.861123</td>\n",
       "      <td>0.862291</td>\n",
       "      <td>0.860526</td>\n",
       "      <td>0.864862</td>\n",
       "      <td>0.861551</td>\n",
       "      <td>0.001975</td>\n",
       "      <td>5</td>\n",
       "    </tr>\n",
       "  </tbody>\n",
       "</table>\n",
       "</div>"
      ],
      "text/plain": [
       "    mean_fit_time  std_fit_time  mean_score_time  std_score_time  \\\n",
       "3       35.538048      1.267787         0.063381        0.002326   \n",
       "33      18.655808      0.236207         0.049330        0.002141   \n",
       "28     147.195277      1.700289         0.250741        0.008951   \n",
       "51     176.314855      2.802965         0.247478        0.009230   \n",
       "49      31.857775      1.399209         0.059154        0.004438   \n",
       "\n",
       "   param_subsample param_n_estimators param_max_depth param_learning_rate  \\\n",
       "3              0.8                100               5                 0.1   \n",
       "33             0.6                100               3                 0.1   \n",
       "28             0.8                500               4                0.01   \n",
       "51               1                500               4                0.01   \n",
       "49             0.8                200               2                 0.5   \n",
       "\n",
       "                                               params  split0_test_score  \\\n",
       "3   {'subsample': 0.8, 'n_estimators': 100, 'max_d...           0.860344   \n",
       "33  {'subsample': 0.6, 'n_estimators': 100, 'max_d...           0.859014   \n",
       "28  {'subsample': 0.8, 'n_estimators': 500, 'max_d...           0.857962   \n",
       "51  {'subsample': 1, 'n_estimators': 500, 'max_dep...           0.857775   \n",
       "49  {'subsample': 0.8, 'n_estimators': 200, 'max_d...           0.858951   \n",
       "\n",
       "    split1_test_score  split2_test_score  split3_test_score  \\\n",
       "3            0.862704           0.863764           0.860199   \n",
       "33           0.861523           0.862170           0.860825   \n",
       "28           0.861562           0.862600           0.860257   \n",
       "51           0.860747           0.861882           0.860160   \n",
       "49           0.861123           0.862291           0.860526   \n",
       "\n",
       "    split4_test_score  mean_test_score  std_test_score  rank_test_score  \n",
       "3            0.867403         0.862883        0.002642                1  \n",
       "33           0.868612         0.862429        0.003267                2  \n",
       "28           0.869364         0.862349        0.003835                3  \n",
       "51           0.869490         0.862011        0.003973                4  \n",
       "49           0.864862         0.861551        0.001975                5  "
      ]
     },
     "execution_count": 30,
     "metadata": {},
     "output_type": "execute_result"
    }
   ],
   "source": [
    "rs_df2 = pd.DataFrame(rs_gb.cv_results_)\n",
    "rs_df2.sort_values('rank_test_score').head()"
   ]
  },
  {
   "cell_type": "code",
   "execution_count": 31,
   "metadata": {
    "ExecuteTime": {
     "end_time": "2021-11-28T02:57:15.612986Z",
     "start_time": "2021-11-28T02:57:15.604983Z"
    }
   },
   "outputs": [],
   "source": [
    "param={\n",
    "    \"subsample\":[0.6, 0.7, 0.8], \n",
    "    \"n_estimators\":[300,400,500],\n",
    "    \"max_depth\":[2,3,4]\n",
    "}\n",
    "gs_gb = GridSearchCV(GradientBoostingClassifier(learning_rate=0.1, random_state=0),\n",
    "                    param_grid=param, \n",
    "                    scoring='roc_auc',\n",
    "                    cv=5,\n",
    "                    n_jobs=-1)"
   ]
  },
  {
   "cell_type": "code",
   "execution_count": 62,
   "metadata": {
    "ExecuteTime": {
     "end_time": "2021-11-28T03:23:14.057985Z",
     "start_time": "2021-11-28T02:57:28.397433Z"
    }
   },
   "outputs": [
    {
     "data": {
      "text/plain": [
       "GridSearchCV(cv=5, estimator=GradientBoostingClassifier(random_state=0),\n",
       "             n_jobs=-1,\n",
       "             param_grid={'max_depth': [2, 3, 4],\n",
       "                         'n_estimators': [300, 400, 500],\n",
       "                         'subsample': [0.6, 0.7, 0.8]},\n",
       "             scoring='roc_auc')"
      ]
     },
     "execution_count": 62,
     "metadata": {},
     "output_type": "execute_result"
    }
   ],
   "source": [
    "gs_gb.fit(X_train, y_train)"
   ]
  },
  {
   "cell_type": "code",
   "execution_count": 63,
   "metadata": {
    "ExecuteTime": {
     "end_time": "2021-11-28T03:23:14.073968Z",
     "start_time": "2021-11-28T03:23:14.057985Z"
    }
   },
   "outputs": [
    {
     "data": {
      "text/plain": [
       "{'max_depth': 3, 'n_estimators': 400, 'subsample': 0.8}"
      ]
     },
     "execution_count": 63,
     "metadata": {},
     "output_type": "execute_result"
    }
   ],
   "source": [
    "gs_gb.best_params_"
   ]
  },
  {
   "cell_type": "code",
   "execution_count": 64,
   "metadata": {
    "ExecuteTime": {
     "end_time": "2021-11-28T03:23:14.089903Z",
     "start_time": "2021-11-28T03:23:14.075904Z"
    }
   },
   "outputs": [
    {
     "data": {
      "text/plain": [
       "0.8651901976338401"
      ]
     },
     "execution_count": 64,
     "metadata": {},
     "output_type": "execute_result"
    }
   ],
   "source": [
    "gs_gb.best_score_"
   ]
  },
  {
   "cell_type": "code",
   "execution_count": 65,
   "metadata": {
    "ExecuteTime": {
     "end_time": "2021-11-28T03:23:14.137900Z",
     "start_time": "2021-11-28T03:23:14.095903Z"
    },
    "scrolled": true
   },
   "outputs": [
    {
     "data": {
      "text/html": [
       "<div>\n",
       "<style scoped>\n",
       "    .dataframe tbody tr th:only-of-type {\n",
       "        vertical-align: middle;\n",
       "    }\n",
       "\n",
       "    .dataframe tbody tr th {\n",
       "        vertical-align: top;\n",
       "    }\n",
       "\n",
       "    .dataframe thead th {\n",
       "        text-align: right;\n",
       "    }\n",
       "</style>\n",
       "<table border=\"1\" class=\"dataframe\">\n",
       "  <thead>\n",
       "    <tr style=\"text-align: right;\">\n",
       "      <th></th>\n",
       "      <th>mean_fit_time</th>\n",
       "      <th>std_fit_time</th>\n",
       "      <th>mean_score_time</th>\n",
       "      <th>std_score_time</th>\n",
       "      <th>param_max_depth</th>\n",
       "      <th>param_n_estimators</th>\n",
       "      <th>param_subsample</th>\n",
       "      <th>params</th>\n",
       "      <th>split0_test_score</th>\n",
       "      <th>split1_test_score</th>\n",
       "      <th>split2_test_score</th>\n",
       "      <th>split3_test_score</th>\n",
       "      <th>split4_test_score</th>\n",
       "      <th>mean_test_score</th>\n",
       "      <th>std_test_score</th>\n",
       "      <th>rank_test_score</th>\n",
       "    </tr>\n",
       "  </thead>\n",
       "  <tbody>\n",
       "    <tr>\n",
       "      <th>14</th>\n",
       "      <td>94.270927</td>\n",
       "      <td>0.613004</td>\n",
       "      <td>0.218747</td>\n",
       "      <td>0.000011</td>\n",
       "      <td>3</td>\n",
       "      <td>400</td>\n",
       "      <td>0.8</td>\n",
       "      <td>{'max_depth': 3, 'n_estimators': 400, 'subsamp...</td>\n",
       "      <td>0.874113</td>\n",
       "      <td>0.866089</td>\n",
       "      <td>0.863399</td>\n",
       "      <td>0.860763</td>\n",
       "      <td>0.861586</td>\n",
       "      <td>0.865190</td>\n",
       "      <td>0.004821</td>\n",
       "      <td>1</td>\n",
       "    </tr>\n",
       "    <tr>\n",
       "      <th>17</th>\n",
       "      <td>118.147506</td>\n",
       "      <td>0.748996</td>\n",
       "      <td>0.265629</td>\n",
       "      <td>0.009872</td>\n",
       "      <td>3</td>\n",
       "      <td>500</td>\n",
       "      <td>0.8</td>\n",
       "      <td>{'max_depth': 3, 'n_estimators': 500, 'subsamp...</td>\n",
       "      <td>0.874049</td>\n",
       "      <td>0.865394</td>\n",
       "      <td>0.863408</td>\n",
       "      <td>0.860701</td>\n",
       "      <td>0.861606</td>\n",
       "      <td>0.865032</td>\n",
       "      <td>0.004787</td>\n",
       "      <td>2</td>\n",
       "    </tr>\n",
       "    <tr>\n",
       "      <th>11</th>\n",
       "      <td>76.431602</td>\n",
       "      <td>1.126797</td>\n",
       "      <td>0.177856</td>\n",
       "      <td>0.008967</td>\n",
       "      <td>3</td>\n",
       "      <td>300</td>\n",
       "      <td>0.8</td>\n",
       "      <td>{'max_depth': 3, 'n_estimators': 300, 'subsamp...</td>\n",
       "      <td>0.874041</td>\n",
       "      <td>0.866068</td>\n",
       "      <td>0.863220</td>\n",
       "      <td>0.860193</td>\n",
       "      <td>0.861567</td>\n",
       "      <td>0.865018</td>\n",
       "      <td>0.004918</td>\n",
       "      <td>3</td>\n",
       "    </tr>\n",
       "    <tr>\n",
       "      <th>16</th>\n",
       "      <td>105.908822</td>\n",
       "      <td>0.339065</td>\n",
       "      <td>0.262501</td>\n",
       "      <td>0.006252</td>\n",
       "      <td>3</td>\n",
       "      <td>500</td>\n",
       "      <td>0.7</td>\n",
       "      <td>{'max_depth': 3, 'n_estimators': 500, 'subsamp...</td>\n",
       "      <td>0.874683</td>\n",
       "      <td>0.865589</td>\n",
       "      <td>0.863736</td>\n",
       "      <td>0.860127</td>\n",
       "      <td>0.860571</td>\n",
       "      <td>0.864941</td>\n",
       "      <td>0.005273</td>\n",
       "      <td>4</td>\n",
       "    </tr>\n",
       "    <tr>\n",
       "      <th>13</th>\n",
       "      <td>85.046958</td>\n",
       "      <td>0.418646</td>\n",
       "      <td>0.212501</td>\n",
       "      <td>0.007652</td>\n",
       "      <td>3</td>\n",
       "      <td>400</td>\n",
       "      <td>0.7</td>\n",
       "      <td>{'max_depth': 3, 'n_estimators': 400, 'subsamp...</td>\n",
       "      <td>0.874596</td>\n",
       "      <td>0.865694</td>\n",
       "      <td>0.863766</td>\n",
       "      <td>0.860195</td>\n",
       "      <td>0.860377</td>\n",
       "      <td>0.864925</td>\n",
       "      <td>0.005263</td>\n",
       "      <td>5</td>\n",
       "    </tr>\n",
       "  </tbody>\n",
       "</table>\n",
       "</div>"
      ],
      "text/plain": [
       "    mean_fit_time  std_fit_time  mean_score_time  std_score_time  \\\n",
       "14      94.270927      0.613004         0.218747        0.000011   \n",
       "17     118.147506      0.748996         0.265629        0.009872   \n",
       "11      76.431602      1.126797         0.177856        0.008967   \n",
       "16     105.908822      0.339065         0.262501        0.006252   \n",
       "13      85.046958      0.418646         0.212501        0.007652   \n",
       "\n",
       "   param_max_depth param_n_estimators param_subsample  \\\n",
       "14               3                400             0.8   \n",
       "17               3                500             0.8   \n",
       "11               3                300             0.8   \n",
       "16               3                500             0.7   \n",
       "13               3                400             0.7   \n",
       "\n",
       "                                               params  split0_test_score  \\\n",
       "14  {'max_depth': 3, 'n_estimators': 400, 'subsamp...           0.874113   \n",
       "17  {'max_depth': 3, 'n_estimators': 500, 'subsamp...           0.874049   \n",
       "11  {'max_depth': 3, 'n_estimators': 300, 'subsamp...           0.874041   \n",
       "16  {'max_depth': 3, 'n_estimators': 500, 'subsamp...           0.874683   \n",
       "13  {'max_depth': 3, 'n_estimators': 400, 'subsamp...           0.874596   \n",
       "\n",
       "    split1_test_score  split2_test_score  split3_test_score  \\\n",
       "14           0.866089           0.863399           0.860763   \n",
       "17           0.865394           0.863408           0.860701   \n",
       "11           0.866068           0.863220           0.860193   \n",
       "16           0.865589           0.863736           0.860127   \n",
       "13           0.865694           0.863766           0.860195   \n",
       "\n",
       "    split4_test_score  mean_test_score  std_test_score  rank_test_score  \n",
       "14           0.861586         0.865190        0.004821                1  \n",
       "17           0.861606         0.865032        0.004787                2  \n",
       "11           0.861567         0.865018        0.004918                3  \n",
       "16           0.860571         0.864941        0.005273                4  \n",
       "13           0.860377         0.864925        0.005263                5  "
      ]
     },
     "execution_count": 65,
     "metadata": {},
     "output_type": "execute_result"
    }
   ],
   "source": [
    "gs_df2 = pd.DataFrame(gs_gb.cv_results_)\n",
    "gs_df2.sort_values('rank_test_score').head()"
   ]
  },
  {
   "cell_type": "code",
   "execution_count": 74,
   "metadata": {
    "ExecuteTime": {
     "end_time": "2021-11-28T04:09:06.631074Z",
     "start_time": "2021-11-28T04:09:06.625081Z"
    }
   },
   "outputs": [],
   "source": [
    "best_model_gb = gs_gb.best_estimator_"
   ]
  },
  {
   "cell_type": "code",
   "execution_count": 95,
   "metadata": {
    "ExecuteTime": {
     "end_time": "2021-11-28T07:47:03.657910Z",
     "start_time": "2021-11-28T07:47:03.633916Z"
    }
   },
   "outputs": [],
   "source": [
    "# 모델 저장\n",
    "gb_file_path = os.path.join(save_dir, 'gradient_boosting_best.pkl')\n",
    "with open(gb_file_path, 'wb') as fw:\n",
    "    pickle.dump(best_model_gb, fw) "
   ]
  },
  {
   "cell_type": "code",
   "execution_count": 24,
   "metadata": {
    "ExecuteTime": {
     "end_time": "2021-11-29T02:30:43.886354Z",
     "start_time": "2021-11-29T02:30:43.852445Z"
    }
   },
   "outputs": [],
   "source": [
    "gb_file_path = os.path.join(save_dir, 'gradient_boosting_best.pkl')\n",
    "with open(gb_file_path, 'rb') as fr:\n",
    "    saved_gb = pickle.load(fr) "
   ]
  },
  {
   "cell_type": "markdown",
   "metadata": {},
   "source": [
    "### RandomForest"
   ]
  },
  {
   "cell_type": "code",
   "execution_count": 56,
   "metadata": {
    "ExecuteTime": {
     "end_time": "2021-11-28T02:01:44.629049Z",
     "start_time": "2021-11-28T02:01:44.613450Z"
    }
   },
   "outputs": [],
   "source": [
    "param_rf = {\n",
    "    'n_estimators':[100,200,300,400,500],\n",
    "    'max_depth':range(1,5),\n",
    "    'max_features':range(5,11)\n",
    "}\n",
    "rs_rf = RandomizedSearchCV(RandomForestClassifier(random_state=0), \n",
    "                                 param_distributions=param_rf, \n",
    "                                 n_iter=60, \n",
    "                                 cv=5, \n",
    "                                 scoring='roc_auc', \n",
    "                                 n_jobs=-1)"
   ]
  },
  {
   "cell_type": "code",
   "execution_count": 57,
   "metadata": {
    "ExecuteTime": {
     "end_time": "2021-11-28T02:28:43.144581Z",
     "start_time": "2021-11-28T02:01:44.629049Z"
    }
   },
   "outputs": [
    {
     "data": {
      "text/plain": [
       "RandomizedSearchCV(cv=5, estimator=RandomForestClassifier(random_state=0),\n",
       "                   n_iter=60, n_jobs=-1,\n",
       "                   param_distributions={'max_depth': range(1, 5),\n",
       "                                        'max_features': range(5, 11),\n",
       "                                        'n_estimators': [100, 200, 300, 400,\n",
       "                                                         500]},\n",
       "                   scoring='roc_auc')"
      ]
     },
     "execution_count": 57,
     "metadata": {},
     "output_type": "execute_result"
    }
   ],
   "source": [
    "rs_rf.fit(X_train, y_train)"
   ]
  },
  {
   "cell_type": "code",
   "execution_count": 58,
   "metadata": {
    "ExecuteTime": {
     "end_time": "2021-11-28T02:28:43.159862Z",
     "start_time": "2021-11-28T02:28:43.144581Z"
    }
   },
   "outputs": [
    {
     "data": {
      "text/plain": [
       "{'n_estimators': 500, 'max_features': 5, 'max_depth': 4}"
      ]
     },
     "execution_count": 58,
     "metadata": {},
     "output_type": "execute_result"
    }
   ],
   "source": [
    "rs_rf.best_params_"
   ]
  },
  {
   "cell_type": "code",
   "execution_count": 59,
   "metadata": {
    "ExecuteTime": {
     "end_time": "2021-11-28T02:28:43.177629Z",
     "start_time": "2021-11-28T02:28:43.162226Z"
    }
   },
   "outputs": [
    {
     "data": {
      "text/plain": [
       "0.8574212595493437"
      ]
     },
     "execution_count": 59,
     "metadata": {},
     "output_type": "execute_result"
    }
   ],
   "source": [
    "rs_rf.best_score_"
   ]
  },
  {
   "cell_type": "code",
   "execution_count": 60,
   "metadata": {
    "ExecuteTime": {
     "end_time": "2021-11-28T02:28:43.216457Z",
     "start_time": "2021-11-28T02:28:43.178481Z"
    },
    "scrolled": true
   },
   "outputs": [
    {
     "data": {
      "text/html": [
       "<div>\n",
       "<style scoped>\n",
       "    .dataframe tbody tr th:only-of-type {\n",
       "        vertical-align: middle;\n",
       "    }\n",
       "\n",
       "    .dataframe tbody tr th {\n",
       "        vertical-align: top;\n",
       "    }\n",
       "\n",
       "    .dataframe thead th {\n",
       "        text-align: right;\n",
       "    }\n",
       "</style>\n",
       "<table border=\"1\" class=\"dataframe\">\n",
       "  <thead>\n",
       "    <tr style=\"text-align: right;\">\n",
       "      <th></th>\n",
       "      <th>mean_fit_time</th>\n",
       "      <th>std_fit_time</th>\n",
       "      <th>mean_score_time</th>\n",
       "      <th>std_score_time</th>\n",
       "      <th>param_n_estimators</th>\n",
       "      <th>param_max_features</th>\n",
       "      <th>param_max_depth</th>\n",
       "      <th>params</th>\n",
       "      <th>split0_test_score</th>\n",
       "      <th>split1_test_score</th>\n",
       "      <th>split2_test_score</th>\n",
       "      <th>split3_test_score</th>\n",
       "      <th>split4_test_score</th>\n",
       "      <th>mean_test_score</th>\n",
       "      <th>std_test_score</th>\n",
       "      <th>rank_test_score</th>\n",
       "    </tr>\n",
       "  </thead>\n",
       "  <tbody>\n",
       "    <tr>\n",
       "      <th>7</th>\n",
       "      <td>73.531847</td>\n",
       "      <td>2.457526</td>\n",
       "      <td>1.368750</td>\n",
       "      <td>0.021194</td>\n",
       "      <td>500</td>\n",
       "      <td>5</td>\n",
       "      <td>4</td>\n",
       "      <td>{'n_estimators': 500, 'max_features': 5, 'max_...</td>\n",
       "      <td>0.867495</td>\n",
       "      <td>0.857701</td>\n",
       "      <td>0.857847</td>\n",
       "      <td>0.851686</td>\n",
       "      <td>0.852378</td>\n",
       "      <td>0.857421</td>\n",
       "      <td>0.005658</td>\n",
       "      <td>1</td>\n",
       "    </tr>\n",
       "    <tr>\n",
       "      <th>24</th>\n",
       "      <td>40.256247</td>\n",
       "      <td>0.420611</td>\n",
       "      <td>0.824998</td>\n",
       "      <td>0.006249</td>\n",
       "      <td>300</td>\n",
       "      <td>5</td>\n",
       "      <td>4</td>\n",
       "      <td>{'n_estimators': 300, 'max_features': 5, 'max_...</td>\n",
       "      <td>0.867615</td>\n",
       "      <td>0.857822</td>\n",
       "      <td>0.857946</td>\n",
       "      <td>0.851409</td>\n",
       "      <td>0.852292</td>\n",
       "      <td>0.857417</td>\n",
       "      <td>0.005776</td>\n",
       "      <td>2</td>\n",
       "    </tr>\n",
       "    <tr>\n",
       "      <th>9</th>\n",
       "      <td>80.320407</td>\n",
       "      <td>1.818594</td>\n",
       "      <td>1.550004</td>\n",
       "      <td>0.121598</td>\n",
       "      <td>500</td>\n",
       "      <td>6</td>\n",
       "      <td>4</td>\n",
       "      <td>{'n_estimators': 500, 'max_features': 6, 'max_...</td>\n",
       "      <td>0.866967</td>\n",
       "      <td>0.856554</td>\n",
       "      <td>0.857327</td>\n",
       "      <td>0.851474</td>\n",
       "      <td>0.852273</td>\n",
       "      <td>0.856919</td>\n",
       "      <td>0.005522</td>\n",
       "      <td>3</td>\n",
       "    </tr>\n",
       "    <tr>\n",
       "      <th>1</th>\n",
       "      <td>30.761284</td>\n",
       "      <td>1.485742</td>\n",
       "      <td>0.549998</td>\n",
       "      <td>0.011696</td>\n",
       "      <td>200</td>\n",
       "      <td>6</td>\n",
       "      <td>4</td>\n",
       "      <td>{'n_estimators': 200, 'max_features': 6, 'max_...</td>\n",
       "      <td>0.867609</td>\n",
       "      <td>0.856124</td>\n",
       "      <td>0.856800</td>\n",
       "      <td>0.851451</td>\n",
       "      <td>0.852574</td>\n",
       "      <td>0.856912</td>\n",
       "      <td>0.005722</td>\n",
       "      <td>4</td>\n",
       "    </tr>\n",
       "    <tr>\n",
       "      <th>26</th>\n",
       "      <td>61.568321</td>\n",
       "      <td>0.602533</td>\n",
       "      <td>1.090620</td>\n",
       "      <td>0.006253</td>\n",
       "      <td>400</td>\n",
       "      <td>6</td>\n",
       "      <td>4</td>\n",
       "      <td>{'n_estimators': 400, 'max_features': 6, 'max_...</td>\n",
       "      <td>0.866947</td>\n",
       "      <td>0.856386</td>\n",
       "      <td>0.857085</td>\n",
       "      <td>0.851530</td>\n",
       "      <td>0.852166</td>\n",
       "      <td>0.856823</td>\n",
       "      <td>0.005522</td>\n",
       "      <td>5</td>\n",
       "    </tr>\n",
       "  </tbody>\n",
       "</table>\n",
       "</div>"
      ],
      "text/plain": [
       "    mean_fit_time  std_fit_time  mean_score_time  std_score_time  \\\n",
       "7       73.531847      2.457526         1.368750        0.021194   \n",
       "24      40.256247      0.420611         0.824998        0.006249   \n",
       "9       80.320407      1.818594         1.550004        0.121598   \n",
       "1       30.761284      1.485742         0.549998        0.011696   \n",
       "26      61.568321      0.602533         1.090620        0.006253   \n",
       "\n",
       "   param_n_estimators param_max_features param_max_depth  \\\n",
       "7                 500                  5               4   \n",
       "24                300                  5               4   \n",
       "9                 500                  6               4   \n",
       "1                 200                  6               4   \n",
       "26                400                  6               4   \n",
       "\n",
       "                                               params  split0_test_score  \\\n",
       "7   {'n_estimators': 500, 'max_features': 5, 'max_...           0.867495   \n",
       "24  {'n_estimators': 300, 'max_features': 5, 'max_...           0.867615   \n",
       "9   {'n_estimators': 500, 'max_features': 6, 'max_...           0.866967   \n",
       "1   {'n_estimators': 200, 'max_features': 6, 'max_...           0.867609   \n",
       "26  {'n_estimators': 400, 'max_features': 6, 'max_...           0.866947   \n",
       "\n",
       "    split1_test_score  split2_test_score  split3_test_score  \\\n",
       "7            0.857701           0.857847           0.851686   \n",
       "24           0.857822           0.857946           0.851409   \n",
       "9            0.856554           0.857327           0.851474   \n",
       "1            0.856124           0.856800           0.851451   \n",
       "26           0.856386           0.857085           0.851530   \n",
       "\n",
       "    split4_test_score  mean_test_score  std_test_score  rank_test_score  \n",
       "7            0.852378         0.857421        0.005658                1  \n",
       "24           0.852292         0.857417        0.005776                2  \n",
       "9            0.852273         0.856919        0.005522                3  \n",
       "1            0.852574         0.856912        0.005722                4  \n",
       "26           0.852166         0.856823        0.005522                5  "
      ]
     },
     "execution_count": 60,
     "metadata": {},
     "output_type": "execute_result"
    }
   ],
   "source": [
    "rs_df3 = pd.DataFrame(rs_rf.cv_results_)\n",
    "rs_df3.sort_values('rank_test_score').head()"
   ]
  },
  {
   "cell_type": "code",
   "execution_count": 79,
   "metadata": {
    "ExecuteTime": {
     "end_time": "2021-11-28T04:11:56.876381Z",
     "start_time": "2021-11-28T04:11:56.856383Z"
    }
   },
   "outputs": [],
   "source": [
    "param = {\n",
    "    \"n_estimators\":[400,500,600,700], \n",
    "    \"max_features\":[3,4,5,6],\n",
    "    \"max_depth\":[3,4,5,6]\n",
    "}\n",
    "\n",
    "gs_rf = GridSearchCV(RandomForestClassifier(random_state=0),\n",
    "                    param_grid=param, \n",
    "                    scoring='roc_auc',\n",
    "                    cv=5,\n",
    "                    n_jobs=-1)"
   ]
  },
  {
   "cell_type": "code",
   "execution_count": 80,
   "metadata": {
    "ExecuteTime": {
     "end_time": "2021-11-28T05:20:38.846962Z",
     "start_time": "2021-11-28T04:11:58.184844Z"
    }
   },
   "outputs": [
    {
     "data": {
      "text/plain": [
       "GridSearchCV(cv=5, estimator=RandomForestClassifier(random_state=0), n_jobs=-1,\n",
       "             param_grid={'max_depth': [3, 4, 5, 6],\n",
       "                         'max_features': [3, 4, 5, 6],\n",
       "                         'n_estimators': [400, 500, 600, 700, 700]},\n",
       "             scoring='roc_auc')"
      ]
     },
     "execution_count": 80,
     "metadata": {},
     "output_type": "execute_result"
    }
   ],
   "source": [
    "gs_rf.fit(X_train, y_train)"
   ]
  },
  {
   "cell_type": "code",
   "execution_count": 81,
   "metadata": {
    "ExecuteTime": {
     "end_time": "2021-11-28T05:20:38.863979Z",
     "start_time": "2021-11-28T05:20:38.848960Z"
    }
   },
   "outputs": [
    {
     "data": {
      "text/plain": [
       "{'max_depth': 6, 'max_features': 3, 'n_estimators': 400}"
      ]
     },
     "execution_count": 81,
     "metadata": {},
     "output_type": "execute_result"
    }
   ],
   "source": [
    "gs_rf.best_params_"
   ]
  },
  {
   "cell_type": "code",
   "execution_count": 82,
   "metadata": {
    "ExecuteTime": {
     "end_time": "2021-11-28T05:20:38.879972Z",
     "start_time": "2021-11-28T05:20:38.865796Z"
    },
    "scrolled": true
   },
   "outputs": [
    {
     "data": {
      "text/plain": [
       "0.861018496990928"
      ]
     },
     "execution_count": 82,
     "metadata": {},
     "output_type": "execute_result"
    }
   ],
   "source": [
    "gs_rf.best_score_"
   ]
  },
  {
   "cell_type": "code",
   "execution_count": 83,
   "metadata": {
    "ExecuteTime": {
     "end_time": "2021-11-28T05:20:38.920674Z",
     "start_time": "2021-11-28T05:20:38.881084Z"
    },
    "collapsed": true
   },
   "outputs": [
    {
     "data": {
      "text/html": [
       "<div>\n",
       "<style scoped>\n",
       "    .dataframe tbody tr th:only-of-type {\n",
       "        vertical-align: middle;\n",
       "    }\n",
       "\n",
       "    .dataframe tbody tr th {\n",
       "        vertical-align: top;\n",
       "    }\n",
       "\n",
       "    .dataframe thead th {\n",
       "        text-align: right;\n",
       "    }\n",
       "</style>\n",
       "<table border=\"1\" class=\"dataframe\">\n",
       "  <thead>\n",
       "    <tr style=\"text-align: right;\">\n",
       "      <th></th>\n",
       "      <th>mean_fit_time</th>\n",
       "      <th>std_fit_time</th>\n",
       "      <th>mean_score_time</th>\n",
       "      <th>std_score_time</th>\n",
       "      <th>param_max_depth</th>\n",
       "      <th>param_max_features</th>\n",
       "      <th>param_n_estimators</th>\n",
       "      <th>params</th>\n",
       "      <th>split0_test_score</th>\n",
       "      <th>split1_test_score</th>\n",
       "      <th>split2_test_score</th>\n",
       "      <th>split3_test_score</th>\n",
       "      <th>split4_test_score</th>\n",
       "      <th>mean_test_score</th>\n",
       "      <th>std_test_score</th>\n",
       "      <th>rank_test_score</th>\n",
       "    </tr>\n",
       "  </thead>\n",
       "  <tbody>\n",
       "    <tr>\n",
       "      <th>60</th>\n",
       "      <td>51.003557</td>\n",
       "      <td>0.361240</td>\n",
       "      <td>1.300001</td>\n",
       "      <td>0.011693</td>\n",
       "      <td>6</td>\n",
       "      <td>3</td>\n",
       "      <td>400</td>\n",
       "      <td>{'max_depth': 6, 'max_features': 3, 'n_estimat...</td>\n",
       "      <td>0.871344</td>\n",
       "      <td>0.861713</td>\n",
       "      <td>0.861344</td>\n",
       "      <td>0.854574</td>\n",
       "      <td>0.856118</td>\n",
       "      <td>0.861018</td>\n",
       "      <td>0.005878</td>\n",
       "      <td>1</td>\n",
       "    </tr>\n",
       "    <tr>\n",
       "      <th>61</th>\n",
       "      <td>64.879531</td>\n",
       "      <td>0.439918</td>\n",
       "      <td>1.649999</td>\n",
       "      <td>0.030620</td>\n",
       "      <td>6</td>\n",
       "      <td>3</td>\n",
       "      <td>500</td>\n",
       "      <td>{'max_depth': 6, 'max_features': 3, 'n_estimat...</td>\n",
       "      <td>0.871227</td>\n",
       "      <td>0.861697</td>\n",
       "      <td>0.861102</td>\n",
       "      <td>0.854534</td>\n",
       "      <td>0.856227</td>\n",
       "      <td>0.860958</td>\n",
       "      <td>0.005825</td>\n",
       "      <td>2</td>\n",
       "    </tr>\n",
       "    <tr>\n",
       "      <th>62</th>\n",
       "      <td>78.449902</td>\n",
       "      <td>0.316428</td>\n",
       "      <td>1.962504</td>\n",
       "      <td>0.015931</td>\n",
       "      <td>6</td>\n",
       "      <td>3</td>\n",
       "      <td>600</td>\n",
       "      <td>{'max_depth': 6, 'max_features': 3, 'n_estimat...</td>\n",
       "      <td>0.871321</td>\n",
       "      <td>0.861691</td>\n",
       "      <td>0.861041</td>\n",
       "      <td>0.854550</td>\n",
       "      <td>0.856165</td>\n",
       "      <td>0.860954</td>\n",
       "      <td>0.005865</td>\n",
       "      <td>3</td>\n",
       "    </tr>\n",
       "    <tr>\n",
       "      <th>63</th>\n",
       "      <td>91.269520</td>\n",
       "      <td>0.806867</td>\n",
       "      <td>2.283340</td>\n",
       "      <td>0.007059</td>\n",
       "      <td>6</td>\n",
       "      <td>3</td>\n",
       "      <td>700</td>\n",
       "      <td>{'max_depth': 6, 'max_features': 3, 'n_estimat...</td>\n",
       "      <td>0.871279</td>\n",
       "      <td>0.861667</td>\n",
       "      <td>0.861067</td>\n",
       "      <td>0.854563</td>\n",
       "      <td>0.856156</td>\n",
       "      <td>0.860946</td>\n",
       "      <td>0.005848</td>\n",
       "      <td>4</td>\n",
       "    </tr>\n",
       "    <tr>\n",
       "      <th>64</th>\n",
       "      <td>90.540809</td>\n",
       "      <td>0.366533</td>\n",
       "      <td>2.275007</td>\n",
       "      <td>0.015934</td>\n",
       "      <td>6</td>\n",
       "      <td>3</td>\n",
       "      <td>700</td>\n",
       "      <td>{'max_depth': 6, 'max_features': 3, 'n_estimat...</td>\n",
       "      <td>0.871279</td>\n",
       "      <td>0.861667</td>\n",
       "      <td>0.861067</td>\n",
       "      <td>0.854563</td>\n",
       "      <td>0.856156</td>\n",
       "      <td>0.860946</td>\n",
       "      <td>0.005848</td>\n",
       "      <td>4</td>\n",
       "    </tr>\n",
       "  </tbody>\n",
       "</table>\n",
       "</div>"
      ],
      "text/plain": [
       "    mean_fit_time  std_fit_time  mean_score_time  std_score_time  \\\n",
       "60      51.003557      0.361240         1.300001        0.011693   \n",
       "61      64.879531      0.439918         1.649999        0.030620   \n",
       "62      78.449902      0.316428         1.962504        0.015931   \n",
       "63      91.269520      0.806867         2.283340        0.007059   \n",
       "64      90.540809      0.366533         2.275007        0.015934   \n",
       "\n",
       "   param_max_depth param_max_features param_n_estimators  \\\n",
       "60               6                  3                400   \n",
       "61               6                  3                500   \n",
       "62               6                  3                600   \n",
       "63               6                  3                700   \n",
       "64               6                  3                700   \n",
       "\n",
       "                                               params  split0_test_score  \\\n",
       "60  {'max_depth': 6, 'max_features': 3, 'n_estimat...           0.871344   \n",
       "61  {'max_depth': 6, 'max_features': 3, 'n_estimat...           0.871227   \n",
       "62  {'max_depth': 6, 'max_features': 3, 'n_estimat...           0.871321   \n",
       "63  {'max_depth': 6, 'max_features': 3, 'n_estimat...           0.871279   \n",
       "64  {'max_depth': 6, 'max_features': 3, 'n_estimat...           0.871279   \n",
       "\n",
       "    split1_test_score  split2_test_score  split3_test_score  \\\n",
       "60           0.861713           0.861344           0.854574   \n",
       "61           0.861697           0.861102           0.854534   \n",
       "62           0.861691           0.861041           0.854550   \n",
       "63           0.861667           0.861067           0.854563   \n",
       "64           0.861667           0.861067           0.854563   \n",
       "\n",
       "    split4_test_score  mean_test_score  std_test_score  rank_test_score  \n",
       "60           0.856118         0.861018        0.005878                1  \n",
       "61           0.856227         0.860958        0.005825                2  \n",
       "62           0.856165         0.860954        0.005865                3  \n",
       "63           0.856156         0.860946        0.005848                4  \n",
       "64           0.856156         0.860946        0.005848                4  "
      ]
     },
     "execution_count": 83,
     "metadata": {},
     "output_type": "execute_result"
    }
   ],
   "source": [
    "gs_df3 = pd.DataFrame(gs_rf.cv_results_)\n",
    "gs_df3.sort_values('rank_test_score').head()"
   ]
  },
  {
   "cell_type": "code",
   "execution_count": 84,
   "metadata": {
    "ExecuteTime": {
     "end_time": "2021-11-28T07:42:56.262932Z",
     "start_time": "2021-11-28T07:42:56.249932Z"
    }
   },
   "outputs": [],
   "source": [
    "best_model_rf = gs_rf.best_estimator_"
   ]
  },
  {
   "cell_type": "code",
   "execution_count": 85,
   "metadata": {
    "ExecuteTime": {
     "end_time": "2021-11-28T07:43:11.239033Z",
     "start_time": "2021-11-28T07:43:11.186994Z"
    }
   },
   "outputs": [],
   "source": [
    "rf_file_path = os.path.join(save_dir, \"random_forest_best.pkl\")\n",
    "with open(rf_file_path, 'wb') as fo:\n",
    "    pickle.dump(best_model_rf, fo)"
   ]
  },
  {
   "cell_type": "code",
   "execution_count": 25,
   "metadata": {
    "ExecuteTime": {
     "end_time": "2021-11-29T02:32:49.947063Z",
     "start_time": "2021-11-29T02:32:49.899191Z"
    }
   },
   "outputs": [],
   "source": [
    "rf_file_path = os.path.join(save_dir, \"random_forest_best.pkl\")\n",
    "with open(rf_file_path, 'rb') as fo:\n",
    "    saved_rf = pickle.load(fo)\n"
   ]
  },
  {
   "cell_type": "markdown",
   "metadata": {},
   "source": [
    "## VotingClassifier\n",
    "- best model들 사용"
   ]
  },
  {
   "cell_type": "code",
   "execution_count": 106,
   "metadata": {
    "ExecuteTime": {
     "end_time": "2021-11-28T07:51:40.400827Z",
     "start_time": "2021-11-28T07:51:40.394827Z"
    }
   },
   "outputs": [],
   "source": [
    "from sklearn.ensemble import VotingClassifier\n",
    "estimators = [('xgb', saved_xgb), ('gradient boost', saved_gb), ('random forest', saved_rf)]\n",
    "voting_clf = VotingClassifier(estimators=estimators, voting='soft', n_jobs=-1)"
   ]
  },
  {
   "cell_type": "code",
   "execution_count": 107,
   "metadata": {
    "ExecuteTime": {
     "end_time": "2021-11-28T07:52:38.174531Z",
     "start_time": "2021-11-28T07:51:40.722151Z"
    }
   },
   "outputs": [
    {
     "data": {
      "text/plain": [
       "VotingClassifier(estimators=[('xgb',\n",
       "                              XGBClassifier(base_score=0.5, booster='gbtree',\n",
       "                                            colsample_bylevel=1,\n",
       "                                            colsample_bynode=1,\n",
       "                                            colsample_bytree=1,\n",
       "                                            enable_categorical=False, gamma=0,\n",
       "                                            gpu_id=-1, importance_type=None,\n",
       "                                            interaction_constraints='',\n",
       "                                            learning_rate=0.1, max_delta_step=0,\n",
       "                                            max_depth=2, min_child_weight=1,\n",
       "                                            missing=nan,\n",
       "                                            monotone_constraints='()',\n",
       "                                            n_estimators=40...\n",
       "                                            predictor='auto', random_state=0,\n",
       "                                            reg_alpha=0, reg_lambda=1,\n",
       "                                            scale_pos_weight=1, subsample=0.6,\n",
       "                                            tree_method='auto',\n",
       "                                            validate_parameters=1,\n",
       "                                            verbosity=None)),\n",
       "                             ('gradient boost',\n",
       "                              GradientBoostingClassifier(n_estimators=400,\n",
       "                                                         random_state=0,\n",
       "                                                         subsample=0.8)),\n",
       "                             ('random forest',\n",
       "                              RandomForestClassifier(max_depth=6,\n",
       "                                                     max_features=3,\n",
       "                                                     n_estimators=400,\n",
       "                                                     random_state=0))],\n",
       "                 n_jobs=-1, voting='soft')"
      ]
     },
     "execution_count": 107,
     "metadata": {},
     "output_type": "execute_result"
    }
   ],
   "source": [
    "voting_clf.fit(X_train, y_train)"
   ]
  },
  {
   "cell_type": "code",
   "execution_count": 109,
   "metadata": {
    "ExecuteTime": {
     "end_time": "2021-11-28T07:53:30.134415Z",
     "start_time": "2021-11-28T07:53:29.058901Z"
    }
   },
   "outputs": [
    {
     "data": {
      "text/plain": [
       "0.8618094979187302"
      ]
     },
     "execution_count": 109,
     "metadata": {},
     "output_type": "execute_result"
    }
   ],
   "source": [
    "pred_proba  = voting_clf.predict_proba(X_test)\n",
    "auc_score = roc_auc_score(y_test, pred_proba[:, 1])\n",
    "auc_score"
   ]
  },
  {
   "cell_type": "markdown",
   "metadata": {},
   "source": [
    "- xgboost : 0.8657477556440014\n",
    "- grandient boosting : 0.8651901976338401\n",
    "- RandomForest: 0.861018496990928\n",
    "- voting: 0.8618094979187302"
   ]
  },
  {
   "cell_type": "code",
   "execution_count": null,
   "metadata": {},
   "outputs": [],
   "source": []
  },
  {
   "cell_type": "markdown",
   "metadata": {},
   "source": [
    "## Test Set 으로 검증"
   ]
  },
  {
   "cell_type": "code",
   "execution_count": 26,
   "metadata": {
    "ExecuteTime": {
     "end_time": "2021-11-29T02:34:57.289345Z",
     "start_time": "2021-11-29T02:34:57.274346Z"
    }
   },
   "outputs": [],
   "source": [
    "def test(estimator, X, y):\n",
    "    pred_prob = estimator.predict_proba(X)\n",
    "    return roc_auc_score(y, pred_prob[:, 1])"
   ]
  },
  {
   "cell_type": "code",
   "execution_count": 27,
   "metadata": {
    "ExecuteTime": {
     "end_time": "2021-11-29T02:34:59.013879Z",
     "start_time": "2021-11-29T02:34:58.928099Z"
    }
   },
   "outputs": [
    {
     "data": {
      "text/plain": [
       "0.870387089730717"
      ]
     },
     "execution_count": 27,
     "metadata": {},
     "output_type": "execute_result"
    }
   ],
   "source": [
    "# XGB\n",
    "test(saved_xgb, X_test, y_test)"
   ]
  },
  {
   "cell_type": "code",
   "execution_count": 28,
   "metadata": {
    "ExecuteTime": {
     "end_time": "2021-11-29T02:35:07.977694Z",
     "start_time": "2021-11-29T02:35:07.706418Z"
    }
   },
   "outputs": [
    {
     "data": {
      "text/plain": [
       "0.8734470316904399"
      ]
     },
     "execution_count": 28,
     "metadata": {},
     "output_type": "execute_result"
    }
   ],
   "source": [
    "# Gradient Boosting\n",
    "test(saved_gb, X_test, y_test)"
   ]
  },
  {
   "cell_type": "markdown",
   "metadata": {},
   "source": [
    "### Test set 최종 검증결과\n",
    "- xgboost : 0.870387089730717\n",
    "- grandient boosting : 0.8734470316904399"
   ]
  },
  {
   "cell_type": "code",
   "execution_count": null,
   "metadata": {},
   "outputs": [],
   "source": []
  }
 ],
 "metadata": {
  "kernelspec": {
   "display_name": "base",
   "language": "python",
   "name": "python3"
  },
  "language_info": {
   "codemirror_mode": {
    "name": "ipython",
    "version": 3
   },
   "file_extension": ".py",
   "mimetype": "text/x-python",
   "name": "python",
   "nbconvert_exporter": "python",
   "pygments_lexer": "ipython3",
   "version": "3.9.13"
  },
  "toc": {
   "base_numbering": 1,
   "nav_menu": {},
   "number_sections": false,
   "sideBar": true,
   "skip_h1_title": false,
   "title_cell": "Table of Contents",
   "title_sidebar": "Contents",
   "toc_cell": false,
   "toc_position": {},
   "toc_section_display": true,
   "toc_window_display": false
  },
  "varInspector": {
   "cols": {
    "lenName": 16,
    "lenType": 16,
    "lenVar": 40
   },
   "kernels_config": {
    "python": {
     "delete_cmd_postfix": "",
     "delete_cmd_prefix": "del ",
     "library": "var_list.py",
     "varRefreshCmd": "print(var_dic_list())"
    },
    "r": {
     "delete_cmd_postfix": ") ",
     "delete_cmd_prefix": "rm(",
     "library": "var_list.r",
     "varRefreshCmd": "cat(var_dic_list()) "
    }
   },
   "types_to_exclude": [
    "module",
    "function",
    "builtin_function_or_method",
    "instance",
    "_Feature"
   ],
   "window_display": false
  },
  "vscode": {
   "interpreter": {
    "hash": "f6bf21ab2bc4f0855ec6559fd71a1a94c505a8ef9b18cf62b2d1fb5722b5bafa"
   }
  }
 },
 "nbformat": 4,
 "nbformat_minor": 2
}
